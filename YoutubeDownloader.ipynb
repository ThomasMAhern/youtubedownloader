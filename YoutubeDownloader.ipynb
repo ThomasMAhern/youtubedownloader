{
 "cells": [
  {
   "cell_type": "code",
   "execution_count": 4,
   "id": "61579677-b26c-45b8-aa7a-476c918f8b1d",
   "metadata": {
    "scrolled": true,
    "tags": []
   },
   "outputs": [
    {
     "name": "stdout",
     "output_type": "stream",
     "text": [
      "Requirement already satisfied: tk in /usr/local/lib/python3.9/site-packages (0.1.0)\n",
      "\u001b[33mWARNING: You are using pip version 21.1.3; however, version 21.2.2 is available.\n",
      "You should consider upgrading via the '/usr/local/opt/python@3.9/bin/python3.9 -m pip install --upgrade pip' command.\u001b[0m\n",
      "Requirement already satisfied: pytube in /usr/local/lib/python3.9/site-packages (11.0.0)\n",
      "\u001b[33mWARNING: You are using pip version 21.1.3; however, version 21.2.2 is available.\n",
      "You should consider upgrading via the '/usr/local/opt/python@3.9/bin/python3.9 -m pip install --upgrade pip' command.\u001b[0m\n",
      "Collecting pytube\n",
      "  Cloning https://github.com/Zeecka/pytube (to revision fix_1060) to /private/var/folders/t3/_33h81dx78zd8mzh68qgbwcc0000gn/T/pip-install-b0awghvf/pytube_cb65573f7e7345a1b61ef300125188d0\n",
      "  Running command git clone -q https://github.com/Zeecka/pytube /private/var/folders/t3/_33h81dx78zd8mzh68qgbwcc0000gn/T/pip-install-b0awghvf/pytube_cb65573f7e7345a1b61ef300125188d0\n",
      "  Running command git checkout -b fix_1060 --track origin/fix_1060\n",
      "  Switched to a new branch 'fix_1060'\n",
      "  Branch 'fix_1060' set up to track remote branch 'fix_1060' from 'origin'.\n",
      "Building wheels for collected packages: pytube\n",
      "  Building wheel for pytube (setup.py) ... \u001b[?25ldone\n",
      "\u001b[?25h  Created wheel for pytube: filename=pytube-10.9.3-py3-none-any.whl size=55880 sha256=032c9b139e129eb9d7206f1085a71ca207cfe03c387ef0a9afd278cf349bdad1\n",
      "  Stored in directory: /private/var/folders/t3/_33h81dx78zd8mzh68qgbwcc0000gn/T/pip-ephem-wheel-cache-ynweunux/wheels/78/9c/58/b84236c37373731f597e6c756e4ceddf45ffa0f07f017373b3\n",
      "Successfully built pytube\n",
      "Installing collected packages: pytube\n",
      "  Attempting uninstall: pytube\n",
      "    Found existing installation: pytube 11.0.0\n",
      "    Uninstalling pytube-11.0.0:\n",
      "      Successfully uninstalled pytube-11.0.0\n",
      "Successfully installed pytube-10.9.3\n",
      "\u001b[33mWARNING: You are using pip version 21.1.3; however, version 21.2.2 is available.\n",
      "You should consider upgrading via the '/usr/local/opt/python@3.9/bin/python3.9 -m pip install --upgrade pip' command.\u001b[0m\n"
     ]
    }
   ],
   "source": [
    "# Using the following resource to build this\n",
    "# https://towardsdatascience.com/build-a-youtube-downloader-with-python-8ef2e6915d97\n",
    "\n",
    "!pip3 install tk #installs tkinter\n",
    "!pip3 install pytube\n",
    "!pip3 install git+https://github.com/Zeecka/pytube@fix_1060#egg=pytube  \n",
    "    # this fixes some bullshit explained in \n",
    "    # https://stackoverflow.com/questions/68606981/how-do-i-download-youtube-videos-with-python"
   ]
  },
  {
   "cell_type": "code",
   "execution_count": 5,
   "id": "12eaa37e-c896-4084-8983-ccb7eb29854d",
   "metadata": {},
   "outputs": [],
   "source": [
    "from tk import *\n",
    "from pytube import YouTube\n",
    "\n"
   ]
  },
  {
   "cell_type": "markdown",
   "id": "1335c9ff-83c9-4e9b-a19c-614bc6ece750",
   "metadata": {},
   "source": [
    "## Type the link below"
   ]
  },
  {
   "cell_type": "code",
   "execution_count": 6,
   "id": "12a7260f-73ac-48f6-906e-4b8f70401e98",
   "metadata": {},
   "outputs": [],
   "source": [
    "link = 'https://youtu.be/TYN2MqVoOks'\n",
    "yt = YouTube(link)"
   ]
  },
  {
   "cell_type": "code",
   "execution_count": 7,
   "id": "ed5bddc0-21f7-4a90-8643-e12b454d7e86",
   "metadata": {
    "scrolled": true,
    "tags": []
   },
   "outputs": [
    {
     "name": "stdout",
     "output_type": "stream",
     "text": [
      "Title:  spaCy Tutorial - All in One | spaCy Basics in 30 mins | How to use spaCy for Text Processing\n",
      "Number of views:  331\n",
      "Length of video:  1828 seconds\n",
      "Description:  Hello devs,\n",
      "\n",
      "welcome to this special all in one spaCy tutorial. It will cover the basic concepts of spaCy and how to use them. Hope you'll like it! \n",
      "\n",
      "Here's every part if you want to only go through the ones you need:\n",
      "\n",
      "00:00 intro and installation\n",
      "03:58 Tokenization\n",
      "12:33 StopWords\n",
      "14:06 Lemmatization\n",
      "15:15 Hashes\n",
      "16:29 Part Of Speech\n",
      "18:39 Rule based matching\n",
      "23:10 Dependency parsing\n",
      "24:23 Name Entity Recognition\n",
      "26:20 Vectors\n",
      "\n",
      "Links:\n",
      "\n",
      "code: https://github.com/dsarchives/spaCy/blob/main/spaCy-all\n",
      "\n",
      "NLTK Playlist: https://www.youtube.com/watch?v=mosvhvu0M6g&list=PLgyOQ3HA2V8tCjfnGPMHfUMV3D4R2lCJV\n",
      "\n",
      "spacy attributes: https://spacy.io/api/token#attributes\n",
      "\n",
      "#spaCy #nlp #python\n",
      "Ratings:  4.6363635\n"
     ]
    }
   ],
   "source": [
    "#Title of video\n",
    "print(\"Title: \",yt.title)\n",
    "\n",
    "#Number of views of video\n",
    "print(\"Number of views: \", yt.views)\n",
    "\n",
    "#Length of the video\n",
    "print(\"Length of video: \", yt.length, \"seconds\")\n",
    "\n",
    "#Description of video\n",
    "print(\"Description: \", yt.description)\n",
    "\n",
    "#Rating\n",
    "print(\"Ratings: \", yt.rating)"
   ]
  },
  {
   "cell_type": "code",
   "execution_count": 5,
   "id": "543fb644-9270-4c8b-bc1c-3c01cd226734",
   "metadata": {},
   "outputs": [
    {
     "data": {
      "text/plain": [
       "'/Volumes/T7/spaCy Tutorial - All in One  spaCy Basics in 30 mins  How to use spaCy for Text Processing.mp4'"
      ]
     },
     "execution_count": 5,
     "metadata": {},
     "output_type": "execute_result"
    }
   ],
   "source": [
    "#getting highest quality progressive stream:\n",
    "ys = yt.streams.get_highest_resolution()\n",
    "\n",
    "# download the video\n",
    "ys.download()"
   ]
  },
  {
   "cell_type": "markdown",
   "id": "38af9f09-f890-4578-959d-8492ba5270bd",
   "metadata": {},
   "source": [
    "."
   ]
  },
  {
   "cell_type": "markdown",
   "id": "ffaee1f3-bd58-43b6-9c6e-ab237deade1d",
   "metadata": {},
   "source": [
    "."
   ]
  },
  {
   "cell_type": "markdown",
   "id": "cb98f26f-85e1-4043-a677-431f974565bd",
   "metadata": {},
   "source": [
    "."
   ]
  },
  {
   "cell_type": "markdown",
   "id": "aa404904-6e26-4e6e-9ee8-ca264940d325",
   "metadata": {},
   "source": [
    "."
   ]
  },
  {
   "cell_type": "markdown",
   "id": "8e5e86eb-c9b2-46b2-87a9-39f927d40f02",
   "metadata": {},
   "source": [
    "."
   ]
  },
  {
   "cell_type": "markdown",
   "id": "1ed8333c-a55b-423e-b3bb-79547ecc8925",
   "metadata": {},
   "source": [
    "."
   ]
  },
  {
   "cell_type": "code",
   "execution_count": null,
   "id": "fdaf6443-e99b-40f0-aa38-350b29801278",
   "metadata": {},
   "outputs": [],
   "source": [
    "# or you can choose any particular stream based on it's itag\n",
    "ys = yt.streams.get_by_itag('22')"
   ]
  },
  {
   "cell_type": "code",
   "execution_count": null,
   "id": "4aa844e6-4df7-4e8b-8867-b999accea408",
   "metadata": {
    "scrolled": true,
    "tags": []
   },
   "outputs": [],
   "source": [
    "#printing all the available streams\n",
    "print(yt.streams)"
   ]
  },
  {
   "cell_type": "code",
   "execution_count": null,
   "id": "ffc2f4cc-d458-4b3d-bb61-b62f738c0e3b",
   "metadata": {},
   "outputs": [],
   "source": [
    "#Audio-only streams\n",
    "print(yt.streams.filter(only_audio=True))\n",
    "\n",
    "#Video-only streams\n",
    "print(yt.streams.filter(only_video=True))\n",
    "\n",
    "#getting progressive streams\n",
    "print(yt.streams.filter(progressive=True))"
   ]
  },
  {
   "cell_type": "code",
   "execution_count": null,
   "id": "c3de8a9c-9544-447f-89c4-2d1c9721f4b6",
   "metadata": {},
   "outputs": [],
   "source": []
  },
  {
   "cell_type": "code",
   "execution_count": null,
   "id": "5129bbf7-e8e7-4045-8f89-8bf5d2c40f7e",
   "metadata": {},
   "outputs": [],
   "source": [
    "# download the thing\n",
    "ys.download()"
   ]
  },
  {
   "cell_type": "code",
   "execution_count": null,
   "id": "f503cb51-563f-45de-97df-292f8db3292a",
   "metadata": {},
   "outputs": [],
   "source": []
  }
 ],
 "metadata": {
  "kernelspec": {
   "display_name": "Python 3",
   "language": "python",
   "name": "python3"
  },
  "language_info": {
   "codemirror_mode": {
    "name": "ipython",
    "version": 3
   },
   "file_extension": ".py",
   "mimetype": "text/x-python",
   "name": "python",
   "nbconvert_exporter": "python",
   "pygments_lexer": "ipython3",
   "version": "3.9.5"
  }
 },
 "nbformat": 4,
 "nbformat_minor": 5
}
